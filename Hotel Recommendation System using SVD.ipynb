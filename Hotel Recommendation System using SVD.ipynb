{
 "cells": [
  {
   "cell_type": "code",
   "execution_count": 221,
   "metadata": {},
   "outputs": [],
   "source": [
    "import numpy as np\n",
    "import pandas as pd\n",
    "import os\n",
    "\n",
    "os.chdir(\"C:/PHD\")\n",
    "%run Library_list.ipynb"
   ]
  },
  {
   "attachments": {},
   "cell_type": "markdown",
   "metadata": {},
   "source": [
    "# Model-Based Collaborative Filtering\n",
    "\n",
    "Model-based Collaborative Filtering is based on matrix factorization (MF) which has received greater exposure, mainly as an unsupervised learning method for latent variable decomposition and dimensionality reduction. Matrix factorization is widely used for recommender systems where it can deal better with scalability and sparsity than Memory-based CF:\n",
    "\n",
    "The goal of MF is to learn the latent preferences of users and the latent attributes of items from known ratings (learn features that describe the characteristics of ratings) to then predict the unknown ratings through the dot product of the latent features of users and items.\n",
    "\n",
    "When you have a very sparse matrix, with a lot of dimensions, by doing matrix factorization, we can restructure the user-item matrix into low-rank structure, and you can represent the matrix by the multiplication of two low-rank matrices, where the rows contain the latent vector.\n",
    "\n",
    "You fit this matrix to approximate your original matrix, as closely as possible, by multiplying the low-rank matrices together, which fills in the entries missing in the original matrix."
   ]
  },
  {
   "cell_type": "code",
   "execution_count": 209,
   "metadata": {},
   "outputs": [
    {
     "data": {
      "text/html": [
       "<div>\n",
       "<style scoped>\n",
       "    .dataframe tbody tr th:only-of-type {\n",
       "        vertical-align: middle;\n",
       "    }\n",
       "\n",
       "    .dataframe tbody tr th {\n",
       "        vertical-align: top;\n",
       "    }\n",
       "\n",
       "    .dataframe thead th {\n",
       "        text-align: right;\n",
       "    }\n",
       "</style>\n",
       "<table border=\"1\" class=\"dataframe\">\n",
       "  <thead>\n",
       "    <tr style=\"text-align: right;\">\n",
       "      <th></th>\n",
       "      <th>userid</th>\n",
       "      <th>Hotelid</th>\n",
       "      <th>OverallRating</th>\n",
       "    </tr>\n",
       "  </thead>\n",
       "  <tbody>\n",
       "    <tr>\n",
       "      <th>0</th>\n",
       "      <td>user_78131</td>\n",
       "      <td>hotel_558</td>\n",
       "      <td>3</td>\n",
       "    </tr>\n",
       "  </tbody>\n",
       "</table>\n",
       "</div>"
      ],
      "text/plain": [
       "       userid    Hotelid  OverallRating\n",
       "0  user_78131  hotel_558              3"
      ]
     },
     "execution_count": 209,
     "metadata": {},
     "output_type": "execute_result"
    }
   ],
   "source": [
    "userData = pd.read_csv('user_hotel_rating-1555730075105.csv')\n",
    "userData.head(1)"
   ]
  },
  {
   "cell_type": "code",
   "execution_count": 210,
   "metadata": {},
   "outputs": [],
   "source": [
    "##Slicing userid and converting into int type\n",
    "\n",
    "userData['userid'] = userData['userid'].str.slice(5,10)\n",
    "userData['userid'] = userData['userid'].astype(int)"
   ]
  },
  {
   "cell_type": "code",
   "execution_count": 250,
   "metadata": {},
   "outputs": [
    {
     "data": {
      "text/html": [
       "<div>\n",
       "<style scoped>\n",
       "    .dataframe tbody tr th:only-of-type {\n",
       "        vertical-align: middle;\n",
       "    }\n",
       "\n",
       "    .dataframe tbody tr th {\n",
       "        vertical-align: top;\n",
       "    }\n",
       "\n",
       "    .dataframe thead th {\n",
       "        text-align: right;\n",
       "    }\n",
       "</style>\n",
       "<table border=\"1\" class=\"dataframe\">\n",
       "  <thead>\n",
       "    <tr style=\"text-align: right;\">\n",
       "      <th>userid</th>\n",
       "      <th>21002</th>\n",
       "      <th>21025</th>\n",
       "      <th>21042</th>\n",
       "      <th>21051</th>\n",
       "      <th>21054</th>\n",
       "      <th>21058</th>\n",
       "      <th>21062</th>\n",
       "      <th>21073</th>\n",
       "      <th>21101</th>\n",
       "      <th>21114</th>\n",
       "      <th>...</th>\n",
       "      <th>79950</th>\n",
       "      <th>79957</th>\n",
       "      <th>79970</th>\n",
       "      <th>80019</th>\n",
       "      <th>80020</th>\n",
       "      <th>80060</th>\n",
       "      <th>80071</th>\n",
       "      <th>80089</th>\n",
       "      <th>80090</th>\n",
       "      <th>80123</th>\n",
       "    </tr>\n",
       "    <tr>\n",
       "      <th>Hotelid</th>\n",
       "      <th></th>\n",
       "      <th></th>\n",
       "      <th></th>\n",
       "      <th></th>\n",
       "      <th></th>\n",
       "      <th></th>\n",
       "      <th></th>\n",
       "      <th></th>\n",
       "      <th></th>\n",
       "      <th></th>\n",
       "      <th></th>\n",
       "      <th></th>\n",
       "      <th></th>\n",
       "      <th></th>\n",
       "      <th></th>\n",
       "      <th></th>\n",
       "      <th></th>\n",
       "      <th></th>\n",
       "      <th></th>\n",
       "      <th></th>\n",
       "      <th></th>\n",
       "    </tr>\n",
       "  </thead>\n",
       "  <tbody>\n",
       "    <tr>\n",
       "      <th>hotel_501</th>\n",
       "      <td>0.0</td>\n",
       "      <td>0.0</td>\n",
       "      <td>0.0</td>\n",
       "      <td>0.0</td>\n",
       "      <td>0.0</td>\n",
       "      <td>0.0</td>\n",
       "      <td>0.0</td>\n",
       "      <td>0.0</td>\n",
       "      <td>0.0</td>\n",
       "      <td>0.0</td>\n",
       "      <td>...</td>\n",
       "      <td>0.0</td>\n",
       "      <td>0.0</td>\n",
       "      <td>0.0</td>\n",
       "      <td>0.0</td>\n",
       "      <td>0.0</td>\n",
       "      <td>0.0</td>\n",
       "      <td>0.0</td>\n",
       "      <td>0.0</td>\n",
       "      <td>0.0</td>\n",
       "      <td>0.0</td>\n",
       "    </tr>\n",
       "    <tr>\n",
       "      <th>hotel_502</th>\n",
       "      <td>3.0</td>\n",
       "      <td>0.0</td>\n",
       "      <td>0.0</td>\n",
       "      <td>2.0</td>\n",
       "      <td>1.0</td>\n",
       "      <td>0.0</td>\n",
       "      <td>0.0</td>\n",
       "      <td>2.0</td>\n",
       "      <td>2.0</td>\n",
       "      <td>0.0</td>\n",
       "      <td>...</td>\n",
       "      <td>3.0</td>\n",
       "      <td>0.0</td>\n",
       "      <td>0.0</td>\n",
       "      <td>0.0</td>\n",
       "      <td>0.0</td>\n",
       "      <td>0.0</td>\n",
       "      <td>0.0</td>\n",
       "      <td>0.0</td>\n",
       "      <td>3.0</td>\n",
       "      <td>3.0</td>\n",
       "    </tr>\n",
       "    <tr>\n",
       "      <th>hotel_503</th>\n",
       "      <td>0.0</td>\n",
       "      <td>0.0</td>\n",
       "      <td>0.0</td>\n",
       "      <td>5.0</td>\n",
       "      <td>0.0</td>\n",
       "      <td>3.0</td>\n",
       "      <td>5.0</td>\n",
       "      <td>0.0</td>\n",
       "      <td>5.0</td>\n",
       "      <td>0.0</td>\n",
       "      <td>...</td>\n",
       "      <td>0.0</td>\n",
       "      <td>1.0</td>\n",
       "      <td>4.0</td>\n",
       "      <td>0.0</td>\n",
       "      <td>2.0</td>\n",
       "      <td>0.0</td>\n",
       "      <td>4.0</td>\n",
       "      <td>0.0</td>\n",
       "      <td>2.0</td>\n",
       "      <td>0.0</td>\n",
       "    </tr>\n",
       "    <tr>\n",
       "      <th>hotel_504</th>\n",
       "      <td>3.0</td>\n",
       "      <td>2.0</td>\n",
       "      <td>0.0</td>\n",
       "      <td>0.0</td>\n",
       "      <td>1.0</td>\n",
       "      <td>0.0</td>\n",
       "      <td>0.0</td>\n",
       "      <td>0.0</td>\n",
       "      <td>0.0</td>\n",
       "      <td>5.0</td>\n",
       "      <td>...</td>\n",
       "      <td>0.0</td>\n",
       "      <td>1.0</td>\n",
       "      <td>4.0</td>\n",
       "      <td>0.0</td>\n",
       "      <td>4.0</td>\n",
       "      <td>0.0</td>\n",
       "      <td>0.0</td>\n",
       "      <td>0.0</td>\n",
       "      <td>4.0</td>\n",
       "      <td>4.0</td>\n",
       "    </tr>\n",
       "    <tr>\n",
       "      <th>hotel_506</th>\n",
       "      <td>3.0</td>\n",
       "      <td>0.0</td>\n",
       "      <td>4.0</td>\n",
       "      <td>5.0</td>\n",
       "      <td>0.0</td>\n",
       "      <td>3.0</td>\n",
       "      <td>4.0</td>\n",
       "      <td>0.0</td>\n",
       "      <td>4.0</td>\n",
       "      <td>5.0</td>\n",
       "      <td>...</td>\n",
       "      <td>4.0</td>\n",
       "      <td>2.0</td>\n",
       "      <td>0.0</td>\n",
       "      <td>3.0</td>\n",
       "      <td>0.0</td>\n",
       "      <td>4.0</td>\n",
       "      <td>0.0</td>\n",
       "      <td>3.0</td>\n",
       "      <td>2.0</td>\n",
       "      <td>0.0</td>\n",
       "    </tr>\n",
       "  </tbody>\n",
       "</table>\n",
       "<p>5 rows × 5010 columns</p>\n",
       "</div>"
      ],
      "text/plain": [
       "userid     21002  21025  21042  21051  21054  21058  21062  21073  21101  \\\n",
       "Hotelid                                                                    \n",
       "hotel_501    0.0    0.0    0.0    0.0    0.0    0.0    0.0    0.0    0.0   \n",
       "hotel_502    3.0    0.0    0.0    2.0    1.0    0.0    0.0    2.0    2.0   \n",
       "hotel_503    0.0    0.0    0.0    5.0    0.0    3.0    5.0    0.0    5.0   \n",
       "hotel_504    3.0    2.0    0.0    0.0    1.0    0.0    0.0    0.0    0.0   \n",
       "hotel_506    3.0    0.0    4.0    5.0    0.0    3.0    4.0    0.0    4.0   \n",
       "\n",
       "userid     21114  ...  79950  79957  79970  80019  80020  80060  80071  80089  \\\n",
       "Hotelid           ...                                                           \n",
       "hotel_501    0.0  ...    0.0    0.0    0.0    0.0    0.0    0.0    0.0    0.0   \n",
       "hotel_502    0.0  ...    3.0    0.0    0.0    0.0    0.0    0.0    0.0    0.0   \n",
       "hotel_503    0.0  ...    0.0    1.0    4.0    0.0    2.0    0.0    4.0    0.0   \n",
       "hotel_504    5.0  ...    0.0    1.0    4.0    0.0    4.0    0.0    0.0    0.0   \n",
       "hotel_506    5.0  ...    4.0    2.0    0.0    3.0    0.0    4.0    0.0    3.0   \n",
       "\n",
       "userid     80090  80123  \n",
       "Hotelid                  \n",
       "hotel_501    0.0    0.0  \n",
       "hotel_502    3.0    3.0  \n",
       "hotel_503    2.0    0.0  \n",
       "hotel_504    4.0    4.0  \n",
       "hotel_506    2.0    0.0  \n",
       "\n",
       "[5 rows x 5010 columns]"
      ]
     },
     "execution_count": 250,
     "metadata": {},
     "output_type": "execute_result"
    }
   ],
   "source": [
    "##Pivoting Userdata with index as UserId and Columns as Hotels.\n",
    "\n",
    "Ratings = userData.pivot(index = 'Hotelid', columns ='userid', values = 'OverallRating').fillna(0)\n",
    "Ratings.head()"
   ]
  },
  {
   "cell_type": "code",
   "execution_count": 251,
   "metadata": {},
   "outputs": [
    {
     "name": "stderr",
     "output_type": "stream",
     "text": [
      "C:\\Users\\CBPLDEV11\\Anaconda3\\lib\\site-packages\\ipykernel_launcher.py:3: FutureWarning: Method .as_matrix will be removed in a future version. Use .values instead.\n",
      "  This is separate from the ipykernel package so we can avoid doing imports until\n"
     ]
    },
    {
     "data": {
      "text/plain": [
       "array([[-0.03373253, -0.03373253, -0.03373253, ..., -0.03373253,\n",
       "        -0.03373253, -0.03373253],\n",
       "       [ 1.87984032, -1.12015968, -1.12015968, ..., -1.12015968,\n",
       "         1.87984032,  1.87984032],\n",
       "       [-1.4756487 , -1.4756487 , -1.4756487 , ..., -1.4756487 ,\n",
       "         0.5243513 , -1.4756487 ],\n",
       "       ...,\n",
       "       [ 1.36207585, -1.63792415, -1.63792415, ..., -1.63792415,\n",
       "         0.36207585,  2.36207585],\n",
       "       [-1.49720559,  1.50279441,  0.50279441, ...,  1.50279441,\n",
       "        -1.49720559, -1.49720559],\n",
       "       [-1.53772455,  1.46227545, -1.53772455, ..., -1.53772455,\n",
       "         0.46227545, -1.53772455]])"
      ]
     },
     "execution_count": 251,
     "metadata": {},
     "output_type": "execute_result"
    }
   ],
   "source": [
    "#de-normalize the data (normalize by each users mean) and convert it from a dataframe to a numpy array.\n",
    "\n",
    "R = Ratings.as_matrix()\n",
    "user_ratings_mean = np.mean(R, axis = 1)\n",
    "Ratings_demeaned = R - user_ratings_mean.reshape(-1, 1)\n",
    "Ratings_demeaned\n",
    "# R"
   ]
  },
  {
   "cell_type": "code",
   "execution_count": 252,
   "metadata": {},
   "outputs": [
    {
     "name": "stdout",
     "output_type": "stream",
     "text": [
      "Number of users = 5010 | Number of Hotels = 130\n",
      "The sparsity level of user_hotel_ratings dataset is 58.199999999999996%\n"
     ]
    }
   ],
   "source": [
    "n_users = userData.userid.unique().shape[0]\n",
    "n_hotels = userData.Hotelid.unique().shape[0]\n",
    "print('Number of users = ' + str(n_users) + ' | Number of Hotels = ' + str(n_hotels))\n",
    "\n",
    "#Checking for Sparsity of userData with userid and Hotelid \n",
    "sparsity = round(1.0 - len(userData) / float(n_users * n_hotels), 3)\n",
    "print('The sparsity level of user_hotel_ratings dataset is ' +  str(sparsity * 100) + '%')"
   ]
  },
  {
   "cell_type": "markdown",
   "metadata": {},
   "source": [
    "# Singular Vector Decomposition\n",
    "\n",
    "-A well-known matrix factorization method is Singular value decomposition (SVD) in which single matrix (say matrix A) is decomposed into U,Σ,V^T , 'U' and V^T are the unitary Matrices and Σ is the Diagonal Matrix\n",
    "\n",
    "-In our care U is 'userid', Σ is the weights of instances, V^T is 'Hotelid'. \n",
    "\n",
    "-Through this method we can achieve dimensionalty reduction to find the Principal component.\n"
   ]
  },
  {
   "cell_type": "code",
   "execution_count": 300,
   "metadata": {},
   "outputs": [
    {
     "data": {
      "text/plain": [
       "(130, 5010)"
      ]
     },
     "execution_count": 300,
     "metadata": {},
     "output_type": "execute_result"
    }
   ],
   "source": [
    "#Setting Up SVD with Unitary matrices and diagonal Matrix\n",
    "\n",
    "from scipy.sparse.linalg import svds\n",
    "U, sigma, Vt = svds(Ratings_demeaned, k = 129)\n",
    "Ratings_demeaned.shape"
   ]
  },
  {
   "cell_type": "code",
   "execution_count": 301,
   "metadata": {},
   "outputs": [
    {
     "data": {
      "text/plain": [
       "array([[ 14.2555376 ,   0.        ,   0.        , ...,   0.        ,\n",
       "          0.        ,   0.        ],\n",
       "       [  0.        ,  14.71655308,   0.        , ...,   0.        ,\n",
       "          0.        ,   0.        ],\n",
       "       [  0.        ,   0.        ,  15.42089162, ...,   0.        ,\n",
       "          0.        ,   0.        ],\n",
       "       ...,\n",
       "       [  0.        ,   0.        ,   0.        , ..., 208.04984856,\n",
       "          0.        ,   0.        ],\n",
       "       [  0.        ,   0.        ,   0.        , ...,   0.        ,\n",
       "        235.32856414,   0.        ],\n",
       "       [  0.        ,   0.        ,   0.        , ...,   0.        ,\n",
       "          0.        , 268.20529316]])"
      ]
     },
     "execution_count": 301,
     "metadata": {},
     "output_type": "execute_result"
    }
   ],
   "source": [
    "#Getting Diagonal Matrix from above \n",
    "\n",
    "sigma = np.diag(sigma)\n",
    "sigma"
   ]
  },
  {
   "cell_type": "code",
   "execution_count": 302,
   "metadata": {},
   "outputs": [
    {
     "data": {
      "text/plain": [
       "array([[ 1.17903001e-01, -2.07852412e-03, -1.90985365e-04, ...,\n",
       "        -1.15284615e-04, -3.66969066e-03, -3.37768959e-03],\n",
       "       [ 3.00063386e+00, -1.11744293e-05, -1.02676339e-06, ...,\n",
       "        -6.19785824e-07,  2.99998027e+00,  2.99998184e+00],\n",
       "       [-6.95208199e-04,  1.22558968e-05,  1.12613412e-06, ...,\n",
       "         6.79769038e-07,  2.00002164e+00,  1.99163505e-05],\n",
       "       ...,\n",
       "       [ 2.99972493e+00,  4.84930886e-06,  4.45579156e-07, ...,\n",
       "         2.68965223e-07,  2.00000856e+00,  4.00000788e+00],\n",
       "       [ 8.56868782e-04,  2.99998489e+00,  1.99999861e+00, ...,\n",
       "         2.99999916e+00, -2.66697483e-05, -2.45476089e-05],\n",
       "       [ 1.18068111e-03,  2.99997919e+00, -1.91252818e-06, ...,\n",
       "        -1.15446058e-06,  1.99996325e+00, -3.38241965e-05]])"
      ]
     },
     "execution_count": 302,
     "metadata": {},
     "output_type": "execute_result"
    }
   ],
   "source": [
    "all_user_predicted_ratings = np.dot(np.dot(U, sigma), Vt) + user_ratings_mean.reshape(-1, 1)\n",
    "all_user_predicted_ratings"
   ]
  },
  {
   "cell_type": "code",
   "execution_count": 303,
   "metadata": {},
   "outputs": [],
   "source": [
    "Ratings.columns\n",
    "preds = pd.DataFrame(all_user_predicted_ratings, columns = Ratings.columns)\n"
   ]
  },
  {
   "cell_type": "code",
   "execution_count": null,
   "metadata": {},
   "outputs": [],
   "source": []
  },
  {
   "cell_type": "code",
   "execution_count": 304,
   "metadata": {},
   "outputs": [],
   "source": [
    "userData.dtypes\n",
    "\n",
    "originalRatings = userData['OverallRating']"
   ]
  },
  {
   "cell_type": "code",
   "execution_count": 305,
   "metadata": {},
   "outputs": [
    {
     "data": {
      "text/plain": [
       "array([78131, 21002, 24128, ..., 60292, 61810, 68476], dtype=int64)"
      ]
     },
     "execution_count": 305,
     "metadata": {},
     "output_type": "execute_result"
    }
   ],
   "source": [
    "pd.unique(userData['userid'])"
   ]
  },
  {
   "cell_type": "code",
   "execution_count": null,
   "metadata": {},
   "outputs": [],
   "source": []
  },
  {
   "cell_type": "code",
   "execution_count": 306,
   "metadata": {},
   "outputs": [],
   "source": [
    "def recommend_hotels(predictions, userData, userID, num_recommendations):\n",
    "    \n",
    "    # Get and sort the user's predictions\n",
    "    user_row_number = userID-1# User ID starts at 1, not 0\n",
    "    sorted_user_predictions = preds.iloc[user_row_number].sort_values(ascending=False) # User ID starts at 1\n",
    "    # Get the user's data and merge in the Hotel information.\n",
    "    \n",
    "    user_data = userData[userData['userid'] == (userID)]\n",
    "\n",
    "    print('User {0} has already rated {1} Hotels'.format(userID, user_data.shape[0]))\n",
    "    print('Recommending highest {0} predicted ratings Hotels not already rated'.format(num_recommendations))\n",
    "    \n",
    "    # Recommend the highest predicted rating movies that the user hasn't seen yet.\n",
    "    recommendations = (userData[userData['userid'].isin(userData['userid'])].\n",
    "         merge(pd.DataFrame(sorted_user_predictions).reset_index()).\n",
    "         rename(columns = {user_row_number: 'Predictions'}).\n",
    "         sort_values('Predictions', ascending = False).\n",
    "                       iloc[:num_recommendations, :-1]\n",
    "                      )\n",
    "\n",
    "    return userID, recommendations"
   ]
  },
  {
   "cell_type": "code",
   "execution_count": 307,
   "metadata": {},
   "outputs": [
    {
     "name": "stdout",
     "output_type": "stream",
     "text": [
      "User 129 has already rated 0 Hotels\n",
      "Recommending highest 10 predicted ratings Hotels not already rated\n"
     ]
    }
   ],
   "source": [
    "userID, recommendations = recommend_hotels(preds, userData,129, 10)"
   ]
  },
  {
   "cell_type": "code",
   "execution_count": 308,
   "metadata": {},
   "outputs": [
    {
     "data": {
      "text/html": [
       "<div>\n",
       "<style scoped>\n",
       "    .dataframe tbody tr th:only-of-type {\n",
       "        vertical-align: middle;\n",
       "    }\n",
       "\n",
       "    .dataframe tbody tr th {\n",
       "        vertical-align: top;\n",
       "    }\n",
       "\n",
       "    .dataframe thead th {\n",
       "        text-align: right;\n",
       "    }\n",
       "</style>\n",
       "<table border=\"1\" class=\"dataframe\">\n",
       "  <thead>\n",
       "    <tr style=\"text-align: right;\">\n",
       "      <th></th>\n",
       "      <th>userid</th>\n",
       "      <th>Hotelid</th>\n",
       "      <th>OverallRating</th>\n",
       "    </tr>\n",
       "  </thead>\n",
       "  <tbody>\n",
       "    <tr>\n",
       "      <th>3172</th>\n",
       "      <td>50775</td>\n",
       "      <td>hotel_564</td>\n",
       "      <td>5</td>\n",
       "    </tr>\n",
       "    <tr>\n",
       "      <th>3186</th>\n",
       "      <td>50775</td>\n",
       "      <td>hotel_637</td>\n",
       "      <td>5</td>\n",
       "    </tr>\n",
       "    <tr>\n",
       "      <th>3175</th>\n",
       "      <td>50775</td>\n",
       "      <td>hotel_629</td>\n",
       "      <td>5</td>\n",
       "    </tr>\n",
       "    <tr>\n",
       "      <th>3176</th>\n",
       "      <td>50775</td>\n",
       "      <td>hotel_516</td>\n",
       "      <td>5</td>\n",
       "    </tr>\n",
       "    <tr>\n",
       "      <th>3177</th>\n",
       "      <td>50775</td>\n",
       "      <td>hotel_583</td>\n",
       "      <td>5</td>\n",
       "    </tr>\n",
       "    <tr>\n",
       "      <th>3178</th>\n",
       "      <td>50775</td>\n",
       "      <td>hotel_566</td>\n",
       "      <td>5</td>\n",
       "    </tr>\n",
       "    <tr>\n",
       "      <th>3179</th>\n",
       "      <td>50775</td>\n",
       "      <td>hotel_560</td>\n",
       "      <td>5</td>\n",
       "    </tr>\n",
       "    <tr>\n",
       "      <th>3180</th>\n",
       "      <td>50775</td>\n",
       "      <td>hotel_519</td>\n",
       "      <td>5</td>\n",
       "    </tr>\n",
       "    <tr>\n",
       "      <th>3181</th>\n",
       "      <td>50775</td>\n",
       "      <td>hotel_572</td>\n",
       "      <td>5</td>\n",
       "    </tr>\n",
       "    <tr>\n",
       "      <th>3182</th>\n",
       "      <td>50775</td>\n",
       "      <td>hotel_563</td>\n",
       "      <td>5</td>\n",
       "    </tr>\n",
       "  </tbody>\n",
       "</table>\n",
       "</div>"
      ],
      "text/plain": [
       "      userid    Hotelid  OverallRating\n",
       "3172   50775  hotel_564              5\n",
       "3186   50775  hotel_637              5\n",
       "3175   50775  hotel_629              5\n",
       "3176   50775  hotel_516              5\n",
       "3177   50775  hotel_583              5\n",
       "3178   50775  hotel_566              5\n",
       "3179   50775  hotel_560              5\n",
       "3180   50775  hotel_519              5\n",
       "3181   50775  hotel_572              5\n",
       "3182   50775  hotel_563              5"
      ]
     },
     "execution_count": 308,
     "metadata": {},
     "output_type": "execute_result"
    }
   ],
   "source": [
    "recommendations\n",
    "\n",
    "# pd.unique(recommendations['Hotelid'])"
   ]
  },
  {
   "cell_type": "code",
   "execution_count": 194,
   "metadata": {},
   "outputs": [
    {
     "name": "stdout",
     "output_type": "stream",
     "text": [
      "Collecting scikit-surprise\n",
      "  Using cached https://files.pythonhosted.org/packages/4d/fc/cd4210b247d1dca421c25994740cbbf03c5e980e31881f10eaddf45fdab0/scikit-surprise-1.0.6.tar.gz\n",
      "Requirement already satisfied: joblib>=0.11 in c:\\users\\cbpldev11\\anaconda3\\lib\\site-packages (from scikit-surprise) (0.13.1)\n",
      "Requirement already satisfied: numpy>=1.11.2 in c:\\users\\cbpldev11\\appdata\\roaming\\python\\python36\\site-packages (from scikit-surprise) (1.16.0)\n",
      "Requirement already satisfied: scipy>=1.0.0 in c:\\users\\cbpldev11\\anaconda3\\lib\\site-packages (from scikit-surprise) (1.1.0)\n",
      "Requirement already satisfied: six>=1.10.0 in c:\\users\\cbpldev11\\anaconda3\\lib\\site-packages (from scikit-surprise) (1.11.0)\n",
      "Building wheels for collected packages: scikit-surprise\n",
      "  Building wheel for scikit-surprise (setup.py): started\n",
      "  Building wheel for scikit-surprise (setup.py): finished with status 'done'\n",
      "  Stored in directory: C:\\Users\\CBPLDEV11\\AppData\\Local\\pip\\Cache\\wheels\\ec\\c0\\55\\3a28eab06b53c220015063ebbdb81213cd3dcbb72c088251ec\n",
      "Successfully built scikit-surprise\n",
      "Installing collected packages: scikit-surprise\n",
      "Successfully installed scikit-surprise-1.0.6\n"
     ]
    },
    {
     "name": "stderr",
     "output_type": "stream",
     "text": [
      "You are using pip version 19.0.1, however version 19.1 is available.\n",
      "You should consider upgrading via the 'python -m pip install --upgrade pip' command.\n"
     ]
    }
   ],
   "source": [
    "!pip install scikit-surprise"
   ]
  },
  {
   "cell_type": "code",
   "execution_count": 309,
   "metadata": {},
   "outputs": [],
   "source": [
    "# Import libraries from Surprise package\n",
    "from surprise import Reader, Dataset, SVD, evaluate\n",
    "\n",
    "# Load Reader library\n",
    "reader = Reader()\n",
    "\n",
    "# Load ratings dataset with Dataset library\n",
    "data = Dataset.load_from_df(userData[['userid', 'Hotelid', 'OverallRating']], reader)\n",
    "\n",
    "# Split the dataset for 5-fold evaluation\n",
    "data.split(n_folds=5)"
   ]
  },
  {
   "cell_type": "code",
   "execution_count": 310,
   "metadata": {},
   "outputs": [],
   "source": [
    "# Use the SVD algorithm.\n",
    "svd = SVD()"
   ]
  },
  {
   "cell_type": "code",
   "execution_count": 311,
   "metadata": {},
   "outputs": [
    {
     "name": "stdout",
     "output_type": "stream",
     "text": [
      "Evaluating RMSE, MAE of algorithm SVD on 2 split(s).\n",
      "\n",
      "                  Fold 1  Fold 2  Mean    Std     \n",
      "RMSE (testset)    0.8559  0.8556  0.8557  0.0001  \n",
      "MAE (testset)     0.6584  0.6574  0.6579  0.0005  \n",
      "Fit time          18.63   17.54   18.08   0.55    \n",
      "Test time         2.09    9.62    5.86    3.76    \n"
     ]
    },
    {
     "data": {
      "text/plain": [
       "{'test_rmse': array([0.85585583, 0.85557445]),\n",
       " 'test_mae': array([0.65838771, 0.6574403 ]),\n",
       " 'fit_time': (18.629802227020264, 17.53909683227539),\n",
       " 'test_time': (2.094073534011841, 9.618374586105347)}"
      ]
     },
     "execution_count": 311,
     "metadata": {},
     "output_type": "execute_result"
    }
   ],
   "source": [
    "from surprise.model_selection import cross_validate\n",
    "cross_validate(svd, data, measures=['RMSE', 'MAE'], cv=2, verbose=True)"
   ]
  },
  {
   "cell_type": "code",
   "execution_count": 275,
   "metadata": {},
   "outputs": [
    {
     "data": {
      "text/plain": [
       "<surprise.prediction_algorithms.matrix_factorization.SVD at 0x158a29f0ac8>"
      ]
     },
     "execution_count": 275,
     "metadata": {},
     "output_type": "execute_result"
    }
   ],
   "source": [
    "trainset = data.build_full_trainset()\n",
    "svd.fit(trainset)"
   ]
  },
  {
   "cell_type": "code",
   "execution_count": 281,
   "metadata": {},
   "outputs": [],
   "source": [
    "testset = trainset.build_anti_testset()"
   ]
  },
  {
   "cell_type": "code",
   "execution_count": 284,
   "metadata": {},
   "outputs": [
    {
     "data": {
      "text/plain": [
       "[Prediction(uid=47178, iid='hotel_587', r_ui=3.2571129130123007, est=2.9285255233184637, details={'was_impossible': False}),\n",
       " Prediction(uid=47178, iid='hotel_640', r_ui=3.2571129130123007, est=2.7380313857998813, details={'was_impossible': False}),\n",
       " Prediction(uid=47178, iid='hotel_577', r_ui=3.2571129130123007, est=3.1377960059118215, details={'was_impossible': False}),\n",
       " Prediction(uid=47178, iid='hotel_506', r_ui=3.2571129130123007, est=3.2743677912197615, details={'was_impossible': False})]"
      ]
     },
     "execution_count": 284,
     "metadata": {},
     "output_type": "execute_result"
    }
   ],
   "source": [
    "predictions = svd.test(testset)\n",
    "\n",
    "predictions[0:4]"
   ]
  },
  {
   "cell_type": "markdown",
   "metadata": {},
   "source": [
    "# Conclusion:\n",
    "\n",
    "The observation which I got to learn from the Dataset was,\n",
    "\n",
    "-The dataset had only ratings which is not enough to determine whether the business is going to be successful or not.\n",
    "\n",
    "-The dataset should have had demographics details of the existing Hotels, so that we can guess which Hotel is the competitor to what Hotel.\n",
    "\n",
    "-Since the Hotel data is masked we do not know to what brand it belongs to, if branding is provided it would be easier for a new user to chose the hotel right away if only he/she is familiar with branding.\n",
    "\n",
    "-If location was present in columns the recommendation engine would also recommend the cynic places for people who are new to the city.\n",
    "\n",
    "-If seasonality was included in user_ratings dataset, our recommendation system would recommend hotels which have promotions during the season which ccould improve the occupancy of hotels.\n",
    "\n",
    "-Location specific search is also possible if locations of hotels are included."
   ]
  }
 ],
 "metadata": {
  "kernelspec": {
   "display_name": "Python 3",
   "language": "python",
   "name": "python3"
  },
  "language_info": {
   "codemirror_mode": {
    "name": "ipython",
    "version": 3
   },
   "file_extension": ".py",
   "mimetype": "text/x-python",
   "name": "python",
   "nbconvert_exporter": "python",
   "pygments_lexer": "ipython3",
   "version": "3.6.5"
  }
 },
 "nbformat": 4,
 "nbformat_minor": 2
}
