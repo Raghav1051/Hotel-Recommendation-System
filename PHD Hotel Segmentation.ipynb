{
 "cells": [
  {
   "cell_type": "code",
   "execution_count": 103,
   "metadata": {},
   "outputs": [],
   "source": [
    "import pandas as pd\n",
    "import os as os\n",
    "from scipy.cluster.hierarchy import dendrogram,linkage\n",
    "from sklearn.cluster import AgglomerativeClustering ##aggregate\n",
    "from sklearn.preprocessing import StandardScaler\n",
    "from sklearn.metrics import mean_absolute_error\n",
    "import statistics as stats\n",
    "import numpy as np\n",
    "from sklearn.model_selection import train_test_split\n",
    "\n",
    "# Plotting libraries\n",
    "import matplotlib.pyplot as plt\n",
    "import seaborn as sns\n",
    "\n",
    "import plotly\n"
   ]
  },
  {
   "cell_type": "markdown",
   "metadata": {},
   "source": [
    "# Hierarchical Clustering \n",
    "Hierachical involves creating clusters that have a predetermined ordering from top to bottom. For example, all files and folders on the hard disk are organized in a hierarchy. There are two types of hierarchical clustering, Divisive and Agglomerative. \n",
    "\n",
    "-Divisive clustering is a method of clustering wherein all instaces are considered as a cluster, further after multiple itearation single cluster is divided into multiple clusters.\n",
    "\n",
    "-Agglomerative Clustering is a bottom-up approach, initially each instance is taken as a cluster and similarity between two clusters is found and those two clusters are joined. These two steps are repeated until only one cluster is formed."
   ]
  },
  {
   "cell_type": "code",
   "execution_count": 334,
   "metadata": {},
   "outputs": [],
   "source": [
    "#Please change the root directory while running this code\n",
    "os.chdir(\"C:/PHD\")\n",
    "# %run Library_list.ipynb"
   ]
  },
  {
   "cell_type": "code",
   "execution_count": 19,
   "metadata": {},
   "outputs": [],
   "source": [
    "newHotelData = pd.read_csv(\"NewHotels_CutstomerVisitsdata-1554810098964.csv\")"
   ]
  },
  {
   "cell_type": "code",
   "execution_count": 20,
   "metadata": {},
   "outputs": [],
   "source": [
    "existingHotelData = pd.read_csv(\"ExistingHotels_CustomerVisitsdata-1554810038262.csv\")"
   ]
  },
  {
   "cell_type": "code",
   "execution_count": 21,
   "metadata": {},
   "outputs": [],
   "source": [
    "existingHotelId = existingHotelData['Hotelid']\n",
    "existingHotelUser = existingHotelData['userid']\n"
   ]
  },
  {
   "cell_type": "code",
   "execution_count": 24,
   "metadata": {},
   "outputs": [],
   "source": [
    "df = existingHotelData.copy()"
   ]
  },
  {
   "cell_type": "code",
   "execution_count": 25,
   "metadata": {},
   "outputs": [],
   "source": [
    "dfN = newHotelData.copy()"
   ]
  },
  {
   "cell_type": "code",
   "execution_count": 26,
   "metadata": {},
   "outputs": [
    {
     "data": {
      "text/plain": [
       "Hotelid                         object\n",
       "userid                          object\n",
       "reviewtext                      object\n",
       "Date                            object\n",
       "NoOfReaders                      int64\n",
       "HelpfulToNoOfreaders             int64\n",
       "Value_rating                     int64\n",
       "Rooms_rating                     int64\n",
       "Location_rating                  int64\n",
       "Cleanliness_rating               int64\n",
       "Checkin_rating                   int64\n",
       "Service_rating                   int64\n",
       "Businessservice_rating           int64\n",
       "AverageOverallRatingOfHotel    float64\n",
       "AveragePricing                  object\n",
       "dtype: object"
      ]
     },
     "execution_count": 26,
     "metadata": {},
     "output_type": "execute_result"
    }
   ],
   "source": [
    "df.dtypes"
   ]
  },
  {
   "cell_type": "code",
   "execution_count": 27,
   "metadata": {},
   "outputs": [],
   "source": [
    "cat_features = ['Value_rating', 'Rooms_rating', 'Location_rating', 'Cleanliness_rating', 'Checkin_rating', 'Service_rating', 'Businessservice_rating', 'AverageOverallRatingOfHotel']\n",
    "num_features = ['NoOfReaders', 'HelpfulToNoOfreaders', 'AveragePricing']"
   ]
  },
  {
   "cell_type": "code",
   "execution_count": 28,
   "metadata": {},
   "outputs": [],
   "source": [
    "df[cat_features] = df[cat_features].astype('category')"
   ]
  },
  {
   "cell_type": "code",
   "execution_count": 29,
   "metadata": {},
   "outputs": [
    {
     "data": {
      "text/plain": [
       "array(['hotel_101', 'hotel_102', 'hotel_103', 'hotel_106', 'hotel_107',\n",
       "       'hotel_108', 'hotel_109', 'hotel_110', 'hotel_111', 'hotel_112',\n",
       "       'hotel_113', 'hotel_116', 'hotel_117', 'hotel_118', 'hotel_121',\n",
       "       'hotel_122', 'hotel_123', 'hotel_124', 'hotel_127', 'hotel_128',\n",
       "       'hotel_129', 'hotel_132', 'hotel_135', 'hotel_137', 'hotel_138',\n",
       "       'hotel_139', 'hotel_140', 'hotel_141', 'hotel_142', 'hotel_144',\n",
       "       'hotel_146', 'hotel_147', 'hotel_148', 'hotel_149', 'hotel_151',\n",
       "       'hotel_152', 'hotel_153', 'hotel_154', 'hotel_155', 'hotel_156',\n",
       "       'hotel_157', 'hotel_158', 'hotel_159', 'hotel_160', 'hotel_161',\n",
       "       'hotel_162', 'hotel_164', 'hotel_165', 'hotel_166', 'hotel_167',\n",
       "       'hotel_168', 'hotel_169', 'hotel_170', 'hotel_171', 'hotel_174',\n",
       "       'hotel_175', 'hotel_176', 'hotel_177', 'hotel_178', 'hotel_179',\n",
       "       'hotel_180', 'hotel_181', 'hotel_182', 'hotel_183', 'hotel_184',\n",
       "       'hotel_185', 'hotel_186', 'hotel_188', 'hotel_190', 'hotel_191',\n",
       "       'hotel_192', 'hotel_193', 'hotel_195', 'hotel_198', 'hotel_200'],\n",
       "      dtype=object)"
      ]
     },
     "execution_count": 29,
     "metadata": {},
     "output_type": "execute_result"
    }
   ],
   "source": [
    "np.unique(df['Hotelid'])"
   ]
  },
  {
   "cell_type": "code",
   "execution_count": 30,
   "metadata": {},
   "outputs": [
    {
     "data": {
      "text/html": [
       "<div>\n",
       "<style scoped>\n",
       "    .dataframe tbody tr th:only-of-type {\n",
       "        vertical-align: middle;\n",
       "    }\n",
       "\n",
       "    .dataframe tbody tr th {\n",
       "        vertical-align: top;\n",
       "    }\n",
       "\n",
       "    .dataframe thead th {\n",
       "        text-align: right;\n",
       "    }\n",
       "</style>\n",
       "<table border=\"1\" class=\"dataframe\">\n",
       "  <thead>\n",
       "    <tr style=\"text-align: right;\">\n",
       "      <th></th>\n",
       "      <th>Hotelid</th>\n",
       "      <th>userid</th>\n",
       "      <th>reviewtext</th>\n",
       "      <th>Date</th>\n",
       "      <th>NoOfReaders</th>\n",
       "      <th>HelpfulToNoOfreaders</th>\n",
       "      <th>Value_rating</th>\n",
       "      <th>Rooms_rating</th>\n",
       "      <th>Location_rating</th>\n",
       "      <th>Cleanliness_rating</th>\n",
       "      <th>Checkin_rating</th>\n",
       "      <th>Service_rating</th>\n",
       "      <th>Businessservice_rating</th>\n",
       "      <th>AverageOverallRatingOfHotel</th>\n",
       "      <th>AveragePricing</th>\n",
       "    </tr>\n",
       "  </thead>\n",
       "  <tbody>\n",
       "    <tr>\n",
       "      <th>0</th>\n",
       "      <td>hotel_101</td>\n",
       "      <td>hotel_2225</td>\n",
       "      <td>Just An Average stay This was just an average ...</td>\n",
       "      <td>13-Dec-08</td>\n",
       "      <td>0</td>\n",
       "      <td>0</td>\n",
       "      <td>4</td>\n",
       "      <td>4</td>\n",
       "      <td>1</td>\n",
       "      <td>4</td>\n",
       "      <td>4</td>\n",
       "      <td>4</td>\n",
       "      <td>3</td>\n",
       "      <td>3.5</td>\n",
       "      <td>$245</td>\n",
       "    </tr>\n",
       "    <tr>\n",
       "      <th>1</th>\n",
       "      <td>hotel_101</td>\n",
       "      <td>hotel_5079</td>\n",
       "      <td>go elsewhere The place is hugely overpriced an...</td>\n",
       "      <td>2-Dec-08</td>\n",
       "      <td>0</td>\n",
       "      <td>0</td>\n",
       "      <td>2</td>\n",
       "      <td>4</td>\n",
       "      <td>3</td>\n",
       "      <td>3</td>\n",
       "      <td>1</td>\n",
       "      <td>2</td>\n",
       "      <td>2</td>\n",
       "      <td>3.5</td>\n",
       "      <td>$245</td>\n",
       "    </tr>\n",
       "  </tbody>\n",
       "</table>\n",
       "</div>"
      ],
      "text/plain": [
       "     Hotelid      userid                                         reviewtext  \\\n",
       "0  hotel_101  hotel_2225  Just An Average stay This was just an average ...   \n",
       "1  hotel_101  hotel_5079  go elsewhere The place is hugely overpriced an...   \n",
       "\n",
       "        Date  NoOfReaders  HelpfulToNoOfreaders Value_rating Rooms_rating  \\\n",
       "0  13-Dec-08            0                     0            4            4   \n",
       "1   2-Dec-08            0                     0            2            4   \n",
       "\n",
       "  Location_rating Cleanliness_rating Checkin_rating Service_rating  \\\n",
       "0               1                  4              4              4   \n",
       "1               3                  3              1              2   \n",
       "\n",
       "  Businessservice_rating AverageOverallRatingOfHotel AveragePricing  \n",
       "0                      3                         3.5          $245   \n",
       "1                      2                         3.5          $245   "
      ]
     },
     "execution_count": 30,
     "metadata": {},
     "output_type": "execute_result"
    }
   ],
   "source": [
    "df.head(2)  "
   ]
  },
  {
   "cell_type": "code",
   "execution_count": 31,
   "metadata": {},
   "outputs": [],
   "source": [
    "df['AveragePricing'] = df['AveragePricing'].str.slice(1,4)\n",
    "dfN['AveragePricing'] = dfN['AveragePricing'].str.slice(1,4)"
   ]
  },
  {
   "cell_type": "code",
   "execution_count": 45,
   "metadata": {},
   "outputs": [],
   "source": [
    "data = df[['Value_rating', 'Rooms_rating', 'Location_rating', 'Cleanliness_rating', 'Checkin_rating', 'Service_rating', 'Businessservice_rating', 'AverageOverallRatingOfHotel','AveragePricing' ]]"
   ]
  },
  {
   "cell_type": "code",
   "execution_count": 46,
   "metadata": {},
   "outputs": [
    {
     "data": {
      "text/html": [
       "<div>\n",
       "<style scoped>\n",
       "    .dataframe tbody tr th:only-of-type {\n",
       "        vertical-align: middle;\n",
       "    }\n",
       "\n",
       "    .dataframe tbody tr th {\n",
       "        vertical-align: top;\n",
       "    }\n",
       "\n",
       "    .dataframe thead th {\n",
       "        text-align: right;\n",
       "    }\n",
       "</style>\n",
       "<table border=\"1\" class=\"dataframe\">\n",
       "  <thead>\n",
       "    <tr style=\"text-align: right;\">\n",
       "      <th></th>\n",
       "      <th>Value_rating</th>\n",
       "      <th>Rooms_rating</th>\n",
       "      <th>Location_rating</th>\n",
       "      <th>Cleanliness_rating</th>\n",
       "      <th>Checkin_rating</th>\n",
       "      <th>Service_rating</th>\n",
       "      <th>Businessservice_rating</th>\n",
       "      <th>AverageOverallRatingOfHotel</th>\n",
       "      <th>AveragePricing</th>\n",
       "    </tr>\n",
       "  </thead>\n",
       "  <tbody>\n",
       "    <tr>\n",
       "      <th>0</th>\n",
       "      <td>4</td>\n",
       "      <td>4</td>\n",
       "      <td>1</td>\n",
       "      <td>4</td>\n",
       "      <td>4</td>\n",
       "      <td>4</td>\n",
       "      <td>3</td>\n",
       "      <td>3.5</td>\n",
       "      <td>245</td>\n",
       "    </tr>\n",
       "    <tr>\n",
       "      <th>1</th>\n",
       "      <td>2</td>\n",
       "      <td>4</td>\n",
       "      <td>3</td>\n",
       "      <td>3</td>\n",
       "      <td>1</td>\n",
       "      <td>2</td>\n",
       "      <td>2</td>\n",
       "      <td>3.5</td>\n",
       "      <td>245</td>\n",
       "    </tr>\n",
       "    <tr>\n",
       "      <th>2</th>\n",
       "      <td>2</td>\n",
       "      <td>4</td>\n",
       "      <td>3</td>\n",
       "      <td>4</td>\n",
       "      <td>2</td>\n",
       "      <td>3</td>\n",
       "      <td>1</td>\n",
       "      <td>3.5</td>\n",
       "      <td>245</td>\n",
       "    </tr>\n",
       "    <tr>\n",
       "      <th>3</th>\n",
       "      <td>5</td>\n",
       "      <td>5</td>\n",
       "      <td>6</td>\n",
       "      <td>6</td>\n",
       "      <td>5</td>\n",
       "      <td>5</td>\n",
       "      <td>3</td>\n",
       "      <td>3.5</td>\n",
       "      <td>245</td>\n",
       "    </tr>\n",
       "    <tr>\n",
       "      <th>4</th>\n",
       "      <td>5</td>\n",
       "      <td>6</td>\n",
       "      <td>6</td>\n",
       "      <td>6</td>\n",
       "      <td>6</td>\n",
       "      <td>1</td>\n",
       "      <td>6</td>\n",
       "      <td>3.5</td>\n",
       "      <td>245</td>\n",
       "    </tr>\n",
       "  </tbody>\n",
       "</table>\n",
       "</div>"
      ],
      "text/plain": [
       "  Value_rating Rooms_rating Location_rating Cleanliness_rating Checkin_rating  \\\n",
       "0            4            4               1                  4              4   \n",
       "1            2            4               3                  3              1   \n",
       "2            2            4               3                  4              2   \n",
       "3            5            5               6                  6              5   \n",
       "4            5            6               6                  6              6   \n",
       "\n",
       "  Service_rating Businessservice_rating AverageOverallRatingOfHotel  \\\n",
       "0              4                      3                         3.5   \n",
       "1              2                      2                         3.5   \n",
       "2              3                      1                         3.5   \n",
       "3              5                      3                         3.5   \n",
       "4              1                      6                         3.5   \n",
       "\n",
       "  AveragePricing  \n",
       "0            245  \n",
       "1            245  \n",
       "2            245  \n",
       "3            245  \n",
       "4            245  "
      ]
     },
     "execution_count": 46,
     "metadata": {},
     "output_type": "execute_result"
    }
   ],
   "source": [
    "data.head()"
   ]
  },
  {
   "cell_type": "code",
   "execution_count": 47,
   "metadata": {},
   "outputs": [
    {
     "data": {
      "image/png": "[encoded data removed]",
      "text/plain": [
       "<Figure size 720x504 with 1 Axes>"
      ]
     },
     "metadata": {},
     "output_type": "display_data"
    }
   ],
   "source": [
    "import scipy.cluster.hierarchy as shc\n",
    "\n",
    "plt.figure(figsize=(10, 7))  \n",
    "plt.title(\"Customer Dendograms\")  \n",
    "dend = shc.dendrogram(shc.linkage(data, method='ward'))  "
   ]
  },
  {
   "cell_type": "markdown",
   "metadata": {},
   "source": [
    "Number of Clusters is determined by drawing a horizontal line passing through the second division of the dendogram"
   ]
  },
  {
   "cell_type": "code",
   "execution_count": 189,
   "metadata": {},
   "outputs": [
    {
     "data": {
      "text/plain": [
       "array([2, 2, 2, ..., 0, 0, 0], dtype=int64)"
      ]
     },
     "execution_count": 189,
     "metadata": {},
     "output_type": "execute_result"
    }
   ],
   "source": [
    "from sklearn.cluster import AgglomerativeClustering\n",
    "\n",
    "cluster = AgglomerativeClustering(n_clusters=3, affinity='euclidean', linkage='ward')  \n",
    "cluster.fit_predict(data)"
   ]
  },
  {
   "cell_type": "code",
   "execution_count": 200,
   "metadata": {},
   "outputs": [],
   "source": [
    "#Training and predicting existing hotel data\n",
    "\n",
    "pred_existingHotel_data = cluster.fit_predict(data[['AverageOverallRatingOfHotel', 'AveragePricing']])"
   ]
  },
  {
   "cell_type": "code",
   "execution_count": null,
   "metadata": {},
   "outputs": [],
   "source": []
  },
  {
   "cell_type": "code",
   "execution_count": 201,
   "metadata": {},
   "outputs": [
    {
     "data": {
      "text/plain": [
       "array([0, 0, 0, ..., 2, 2, 2], dtype=int64)"
      ]
     },
     "execution_count": 201,
     "metadata": {},
     "output_type": "execute_result"
    }
   ],
   "source": [
    "# Training and predicting new hotel data\n",
    "\n",
    "pred_newHotel_Data = cluster.fit_predict(dfN[['AverageOverallRatingOfHotel', 'AveragePricing']])\n",
    "pred_newHotel_Data"
   ]
  },
  {
   "cell_type": "code",
   "execution_count": null,
   "metadata": {},
   "outputs": [],
   "source": []
  },
  {
   "cell_type": "code",
   "execution_count": 193,
   "metadata": {},
   "outputs": [],
   "source": [
    "## Merging the Predicted values with the original Dataframe\n",
    "label = \"cluster_value\"\n",
    "clusterValue = pd.DataFrame(pred_newHotel_Data, columns = [label])\n",
    "mergedData = pd.concat([dfN, clusterValue], axis = 1)"
   ]
  },
  {
   "cell_type": "code",
   "execution_count": 194,
   "metadata": {},
   "outputs": [
    {
     "data": {
      "text/html": [
       "<div>\n",
       "<style scoped>\n",
       "    .dataframe tbody tr th:only-of-type {\n",
       "        vertical-align: middle;\n",
       "    }\n",
       "\n",
       "    .dataframe tbody tr th {\n",
       "        vertical-align: top;\n",
       "    }\n",
       "\n",
       "    .dataframe thead th {\n",
       "        text-align: right;\n",
       "    }\n",
       "</style>\n",
       "<table border=\"1\" class=\"dataframe\">\n",
       "  <thead>\n",
       "    <tr style=\"text-align: right;\">\n",
       "      <th></th>\n",
       "      <th>Hotelid</th>\n",
       "      <th>userid</th>\n",
       "      <th>reviewtext</th>\n",
       "      <th>Date</th>\n",
       "      <th>NoOfReaders</th>\n",
       "      <th>HelpfulToNoOfreaders</th>\n",
       "      <th>Value_rating</th>\n",
       "      <th>Rooms_rating</th>\n",
       "      <th>Location_rating</th>\n",
       "      <th>Cleanliness_rating</th>\n",
       "      <th>Checkin_rating</th>\n",
       "      <th>Service_rating</th>\n",
       "      <th>Businessservice_rating</th>\n",
       "      <th>AverageOverallRatingOfHotel</th>\n",
       "      <th>AveragePricing</th>\n",
       "      <th>cluster_value</th>\n",
       "    </tr>\n",
       "  </thead>\n",
       "  <tbody>\n",
       "    <tr>\n",
       "      <th>0</th>\n",
       "      <td>hotel_104</td>\n",
       "      <td>hotel_4342</td>\n",
       "      <td>Awesome Everything about this resort was great...</td>\n",
       "      <td>Jan 5, 2009</td>\n",
       "      <td>0</td>\n",
       "      <td>0</td>\n",
       "      <td>6</td>\n",
       "      <td>6</td>\n",
       "      <td>6</td>\n",
       "      <td>6</td>\n",
       "      <td>6</td>\n",
       "      <td>6</td>\n",
       "      <td>6</td>\n",
       "      <td>4.0</td>\n",
       "      <td>227</td>\n",
       "      <td>0</td>\n",
       "    </tr>\n",
       "    <tr>\n",
       "      <th>1</th>\n",
       "      <td>hotel_104</td>\n",
       "      <td>hotel_2024</td>\n",
       "      <td>Convenient  When I say Above Average I'm compa...</td>\n",
       "      <td>Nov 10, 2008</td>\n",
       "      <td>0</td>\n",
       "      <td>0</td>\n",
       "      <td>4</td>\n",
       "      <td>4</td>\n",
       "      <td>6</td>\n",
       "      <td>5</td>\n",
       "      <td>4</td>\n",
       "      <td>5</td>\n",
       "      <td>1</td>\n",
       "      <td>4.0</td>\n",
       "      <td>227</td>\n",
       "      <td>0</td>\n",
       "    </tr>\n",
       "  </tbody>\n",
       "</table>\n",
       "</div>"
      ],
      "text/plain": [
       "     Hotelid      userid                                         reviewtext  \\\n",
       "0  hotel_104  hotel_4342  Awesome Everything about this resort was great...   \n",
       "1  hotel_104  hotel_2024  Convenient  When I say Above Average I'm compa...   \n",
       "\n",
       "           Date  NoOfReaders  HelpfulToNoOfreaders  Value_rating  \\\n",
       "0   Jan 5, 2009            0                     0             6   \n",
       "1  Nov 10, 2008            0                     0             4   \n",
       "\n",
       "   Rooms_rating  Location_rating  Cleanliness_rating  Checkin_rating  \\\n",
       "0             6                6                   6               6   \n",
       "1             4                6                   5               4   \n",
       "\n",
       "   Service_rating  Businessservice_rating  AverageOverallRatingOfHotel  \\\n",
       "0               6                       6                          4.0   \n",
       "1               5                       1                          4.0   \n",
       "\n",
       "  AveragePricing  cluster_value  \n",
       "0            227              0  \n",
       "1            227              0  "
      ]
     },
     "execution_count": 194,
     "metadata": {},
     "output_type": "execute_result"
    }
   ],
   "source": [
    "mergedData.head(2)"
   ]
  },
  {
   "cell_type": "code",
   "execution_count": 195,
   "metadata": {},
   "outputs": [
    {
     "data": {
      "text/plain": [
       "array([0, 1, 2], dtype=int64)"
      ]
     },
     "execution_count": 195,
     "metadata": {},
     "output_type": "execute_result"
    }
   ],
   "source": [
    "pd.unique(mergedData['cluster_value'])"
   ]
  },
  {
   "cell_type": "code",
   "execution_count": 80,
   "metadata": {},
   "outputs": [],
   "source": [
    "mergedData.to_csv(\"newHotelData.csv\")"
   ]
  },
  {
   "cell_type": "code",
   "execution_count": 196,
   "metadata": {},
   "outputs": [
    {
     "data": {
      "text/plain": [
       "7504"
      ]
     },
     "execution_count": 196,
     "metadata": {},
     "output_type": "execute_result"
    }
   ],
   "source": [
    "data['AveragePricing'].count()"
   ]
  },
  {
   "cell_type": "markdown",
   "metadata": {},
   "source": [
    "# Plots"
   ]
  },
  {
   "cell_type": "code",
   "execution_count": 197,
   "metadata": {},
   "outputs": [
    {
     "data": {
      "text/plain": [
       "<matplotlib.collections.PathCollection at 0x1f95db72940>"
      ]
     },
     "execution_count": 197,
     "metadata": {},
     "output_type": "execute_result"
    },
    {
     "data": {
      "image/png": "[encoded data removed]",
      "text/plain": [
       "<Figure size 720x504 with 1 Axes>"
      ]
     },
     "metadata": {},
     "output_type": "display_data"
    }
   ],
   "source": [
    "plt.figure(figsize=(10, 7))  \n",
    "plt.scatter(mergedData['AverageOverallRatingOfHotel'],mergedData['cluster_value'], c=cluster.labels_, cmap='rainbow')  "
   ]
  },
  {
   "cell_type": "code",
   "execution_count": 199,
   "metadata": {},
   "outputs": [
    {
     "data": {
      "text/plain": [
       "<matplotlib.collections.PathCollection at 0x1f95e738f98>"
      ]
     },
     "execution_count": 199,
     "metadata": {},
     "output_type": "execute_result"
    },
    {
     "data": {
      "image/png": "[encoded data removed]",
      "text/plain": [
       "<Figure size 720x504 with 1 Axes>"
      ]
     },
     "metadata": {},
     "output_type": "display_data"
    }
   ],
   "source": [
    "plt.figure(figsize=(10, 7))  \n",
    "plt.scatter(mergedData['HelpfulToNoOfreaders'],mergedData['cluster_value'], c=cluster.labels_, cmap='rainbow')"
   ]
  },
  {
   "cell_type": "code",
   "execution_count": 204,
   "metadata": {},
   "outputs": [
    {
     "data": {
      "text/plain": [
       "<matplotlib.collections.PathCollection at 0x1f95e3f26a0>"
      ]
     },
     "execution_count": 204,
     "metadata": {},
     "output_type": "execute_result"
    },
    {
     "data": {
      "image/png": "[encoded data removed]",
      "text/plain": [
       "<Figure size 720x504 with 1 Axes>"
      ]
     },
     "metadata": {},
     "output_type": "display_data"
    }
   ],
   "source": [
    "plt.figure(figsize=(10, 7))  \n",
    "plt.scatter(mergedData['AveragePricing'],mergedData['cluster_value'], c=cluster.labels_, cmap='rainbow')"
   ]
  },
  {
   "cell_type": "markdown",
   "metadata": {},
   "source": [
    "# KMeans Clustering\n",
    "\n",
    "K-means clustering is a type of unsupervised learning, which is used when you have unlabeled data (i.e., data without defined categories or groups). The goal of this algorithm is to find groups in the data, with the number of groups represented by the variable K. The algorithm works iteratively to assign each data point to one of K groups based on the features that are provided. Data points are clustered based on feature similarity. The results of the K-means clustering algorithm are:\n",
    "\n",
    "The centroids of the K clusters, which can be used to label new data\n",
    "Labels for the training data (each data point is assigned to a single cluster)\n",
    "Rather than defining groups before looking at the data, clustering allows you to find and analyze the groups that have formed organically. The \"Choosing K\" section below describes how the number of groups can be determined.  \n",
    "\n",
    "Each centroid of a cluster is a collection of feature values which define the resulting groups. Examining the centroid feature weights can be used to qualitatively interpret what kind of group each cluster represents. "
   ]
  },
  {
   "cell_type": "code",
   "execution_count": 259,
   "metadata": {},
   "outputs": [],
   "source": [
    "existingHotelData['AveragePricing'] = existingHotelData['AveragePricing'].str.slice(1,4)\n",
    "\n",
    "data2 = existingHotelData[['Value_rating', 'Rooms_rating', 'Location_rating', 'Cleanliness_rating', 'Checkin_rating', 'Service_rating', 'Businessservice_rating', 'AverageOverallRatingOfHotel',\n",
    "          'NoOfReaders','HelpfulToNoOfreaders', 'AveragePricing']]\n",
    "\n",
    "numeric_vars = data2.drop(['AverageOverallRatingOfHotel'],axis=1)\n",
    "\n",
    "X_train, X_test= train_test_split(numeric_vars, test_size=0.150) "
   ]
  },
  {
   "cell_type": "code",
   "execution_count": 260,
   "metadata": {},
   "outputs": [
    {
     "name": "stderr",
     "output_type": "stream",
     "text": [
      "C:\\Users\\CBPLDEV11\\Anaconda3\\lib\\site-packages\\sklearn\\preprocessing\\data.py:645: DataConversionWarning:\n",
      "\n",
      "Data with input dtype int64, object were all converted to float64 by StandardScaler.\n",
      "\n",
      "C:\\Users\\CBPLDEV11\\Anaconda3\\lib\\site-packages\\ipykernel_launcher.py:5: DataConversionWarning:\n",
      "\n",
      "Data with input dtype int64, object were all converted to float64 by StandardScaler.\n",
      "\n",
      "C:\\Users\\CBPLDEV11\\Anaconda3\\lib\\site-packages\\ipykernel_launcher.py:6: DataConversionWarning:\n",
      "\n",
      "Data with input dtype int64, object were all converted to float64 by StandardScaler.\n",
      "\n"
     ]
    }
   ],
   "source": [
    "#Starndardising Train Data\n",
    "\n",
    "std = StandardScaler()\n",
    "std.fit(X_train)\n",
    "X_train_std= std.transform(X_train)\n",
    "X_test_std= std.transform(X_test)"
   ]
  },
  {
   "cell_type": "code",
   "execution_count": 261,
   "metadata": {},
   "outputs": [
    {
     "data": {
      "text/plain": [
       "array([[-0.00768445,  0.54035048,  0.54914181,  0.40609516,  1.12818901,\n",
       "         1.03879649,  0.74882979, -0.0826812 ,  0.09005777,  0.97232737],\n",
       "       [-0.55225615,  0.54035048, -1.30620263, -0.13429185, -1.24722018,\n",
       "        -0.01327878, -0.8067135 ,  0.61950344,  0.66158855,  0.51232092],\n",
       "       [ 0.53688724,  0.54035048,  1.01297792,  0.40609516,  1.12818901,\n",
       "        -0.01327878,  1.78585865, -0.55080429, -0.48147302,  1.08452406],\n",
       "       [-1.64139955,  0.54035048, -1.30620263,  0.40609516, -1.24722018,\n",
       "        -0.01327878, -0.8067135 ,  0.15138035,  0.37582316,  1.73526488],\n",
       "       [ 0.53688724,  0.54035048,  1.01297792, -0.13429185,  0.65310718,\n",
       "         0.51275886, -0.8067135 , -0.55080429, -0.48147302, -0.77794105]])"
      ]
     },
     "execution_count": 261,
     "metadata": {},
     "output_type": "execute_result"
    }
   ],
   "source": [
    "X_train_std[0:5,:]"
   ]
  },
  {
   "cell_type": "code",
   "execution_count": 262,
   "metadata": {},
   "outputs": [
    {
     "data": {
      "text/plain": [
       "Int64Index([6564, 5666, 7376, 5914, 1275, 4708, 5036, 2475, 4876, 7076,\n",
       "            ...\n",
       "            3945, 1381, 4391,  159, 2364,  689, 7194, 5097, 5905, 2857],\n",
       "           dtype='int64', length=6378)"
      ]
     },
     "execution_count": 262,
     "metadata": {},
     "output_type": "execute_result"
    }
   ],
   "source": [
    "X_train.index"
   ]
  },
  {
   "cell_type": "code",
   "execution_count": 263,
   "metadata": {},
   "outputs": [],
   "source": [
    "# Number of clusters\n",
    "kmeans = KMeans(n_clusters=2,random_state=148461)\n",
    "# Fitting the input data\n",
    "kmeans = kmeans.fit(X_train_std)\n",
    "# Getting the cluster labels\n",
    "labels = kmeans.predict(X_train_std)\n",
    "# Centroid values\n",
    "centroids = kmeans.cluster_centers_"
   ]
  },
  {
   "cell_type": "code",
   "execution_count": 264,
   "metadata": {},
   "outputs": [
    {
     "data": {
      "text/plain": [
       "array([[-1.2704379 , -1.30380111, -1.00692091, -1.3325669 , -1.04165343,\n",
       "        -1.22502869, -0.69227298,  0.3036798 ,  0.22538754, -0.10878408],\n",
       "       [ 0.51315288,  0.52662889,  0.4067136 ,  0.53824791,  0.42074269,\n",
       "         0.49481128,  0.2796216 , -0.12266177, -0.09103811,  0.04393986]])"
      ]
     },
     "execution_count": 264,
     "metadata": {},
     "output_type": "execute_result"
    }
   ],
   "source": [
    "centroids"
   ]
  },
  {
   "cell_type": "code",
   "execution_count": 267,
   "metadata": {},
   "outputs": [],
   "source": [
    "#Capturing necessary features from new Hotel data and Predicting using KMeans\n",
    "newHotelData['AveragePricing'] = newHotelData['AveragePricing'].str.slice(1,4)\n",
    "\n",
    "newHotelDataDf = newHotelData[['Value_rating', 'Rooms_rating', 'Location_rating', 'Cleanliness_rating', 'Checkin_rating', 'Service_rating', 'Businessservice_rating',\n",
    "          'NoOfReaders','HelpfulToNoOfreaders', 'AveragePricing']]"
   ]
  },
  {
   "cell_type": "code",
   "execution_count": 268,
   "metadata": {},
   "outputs": [
    {
     "name": "stderr",
     "output_type": "stream",
     "text": [
      "C:\\Users\\CBPLDEV11\\Anaconda3\\lib\\site-packages\\sklearn\\preprocessing\\data.py:645: DataConversionWarning:\n",
      "\n",
      "Data with input dtype int64, object were all converted to float64 by StandardScaler.\n",
      "\n",
      "C:\\Users\\CBPLDEV11\\Anaconda3\\lib\\site-packages\\ipykernel_launcher.py:5: DataConversionWarning:\n",
      "\n",
      "Data with input dtype int64, object were all converted to float64 by StandardScaler.\n",
      "\n"
     ]
    }
   ],
   "source": [
    "#Starndardising Train Data\n",
    "\n",
    "std = StandardScaler()\n",
    "std.fit(newHotelDataDf)\n",
    "X_newHotel_std= std.transform(newHotelDataDf)\n",
    "\n",
    "# X_test_std= std.transform(X_test)"
   ]
  },
  {
   "cell_type": "code",
   "execution_count": 269,
   "metadata": {},
   "outputs": [
    {
     "data": {
      "text/plain": [
       "array([[-1.2704379 , -1.30380111, -1.00692091, -1.3325669 , -1.04165343,\n",
       "        -1.22502869, -0.69227298,  0.3036798 ,  0.22538754, -0.10878408],\n",
       "       [ 0.51315288,  0.52662889,  0.4067136 ,  0.53824791,  0.42074269,\n",
       "         0.49481128,  0.2796216 , -0.12266177, -0.09103811,  0.04393986]])"
      ]
     },
     "execution_count": 269,
     "metadata": {},
     "output_type": "execute_result"
    }
   ],
   "source": [
    "#Predicting the new hotel data\n",
    "\n",
    "pred_new_hotel = kmeans.predict(X_newHotel_std)\n",
    "centroids_newHotel = kmeans.cluster_centers_\n",
    "centroids_newHotel"
   ]
  },
  {
   "cell_type": "code",
   "execution_count": 270,
   "metadata": {},
   "outputs": [
    {
     "data": {
      "text/plain": [
       "array([[ 1.0681997 ,  1.0701255 ,  1.08352671,  0.91193497,  1.15537223,\n",
       "         0.9956898 ,  1.87323202, -0.63836777, -0.68241958, -0.35909561],\n",
       "       [-0.01291736, -0.02370181,  1.08352671,  0.38115528,  0.20765993,\n",
       "         0.47693941, -0.75342056, -0.63836777, -0.68241958, -0.35909561],\n",
       "       [-0.55347589, -0.02370181,  0.14698638,  0.38115528,  1.15537223,\n",
       "        -0.04181099,  0.82257099, -0.63836777, -0.68241958, -0.35909561],\n",
       "       [ 1.0681997 ,  1.0701255 ,  1.08352671,  0.91193497,  1.15537223,\n",
       "         0.9956898 ,  1.87323202, -0.63836777, -0.68241958, -0.35909561],\n",
       "       [ 1.0681997 , -0.02370181,  1.08352671,  0.91193497,  1.15537223,\n",
       "         0.9956898 ,  1.87323202, -0.13880199, -0.22357047, -0.35909561]])"
      ]
     },
     "execution_count": 270,
     "metadata": {},
     "output_type": "execute_result"
    }
   ],
   "source": [
    "X_newHotel_std[0:5,:]"
   ]
  },
  {
   "cell_type": "code",
   "execution_count": 271,
   "metadata": {},
   "outputs": [],
   "source": [
    "# Merging the clusters formed into a single dataframe with existing new hotel dataframe\n",
    "\n",
    "label = \"cluster_value\"\n",
    "clusterValue = pd.DataFrame(pred_new_hotel, columns = [label])\n",
    "mergedData2 = pd.concat([dfN, clusterValue], axis = 1)"
   ]
  },
  {
   "cell_type": "code",
   "execution_count": 272,
   "metadata": {},
   "outputs": [
    {
     "data": {
      "text/plain": [
       "array([1, 1, 1, ..., 0, 1, 0])"
      ]
     },
     "execution_count": 272,
     "metadata": {},
     "output_type": "execute_result"
    }
   ],
   "source": [
    "pred_new_hotel"
   ]
  },
  {
   "cell_type": "code",
   "execution_count": null,
   "metadata": {},
   "outputs": [],
   "source": []
  },
  {
   "cell_type": "code",
   "execution_count": 273,
   "metadata": {},
   "outputs": [
    {
     "data": {
      "text/plain": [
       "array([0, 0, 1, ..., 0, 1, 1])"
      ]
     },
     "execution_count": 273,
     "metadata": {},
     "output_type": "execute_result"
    }
   ],
   "source": [
    "# Getting the cluster labels for the test Data set\n",
    "labels_test = kmeans.predict(X_test_std)\n",
    "labels_test"
   ]
  },
  {
   "cell_type": "code",
   "execution_count": 274,
   "metadata": {},
   "outputs": [
    {
     "name": "stdout",
     "output_type": "stream",
     "text": [
      "[[-1.2704379  -1.30380111 -1.00692091 -1.3325669  -1.04165343 -1.22502869\n",
      "  -0.69227298  0.3036798   0.22538754 -0.10878408]\n",
      " [ 0.51315288  0.52662889  0.4067136   0.53824791  0.42074269  0.49481128\n",
      "   0.2796216  -0.12266177 -0.09103811  0.04393986]]\n",
      "39761.234892387576\n"
     ]
    }
   ],
   "source": [
    "print(kmeans.cluster_centers_)\n",
    "print(kmeans.inertia_)"
   ]
  },
  {
   "cell_type": "code",
   "execution_count": 275,
   "metadata": {},
   "outputs": [],
   "source": [
    "wss= {}\n",
    "for k in range(1, 10):\n",
    "    kmeans = KMeans(n_clusters=k, max_iter=1000).fit(X_train_std)\n",
    "    clusters = kmeans.labels_\n",
    "    wss[k] = kmeans.inertia_ # Inertia: Sum of squared distances of samples to their closest cluster center"
   ]
  },
  {
   "cell_type": "code",
   "execution_count": 276,
   "metadata": {},
   "outputs": [
    {
     "data": {
      "text/plain": [
       "{1: 63780.0,\n",
       " 2: 39761.234892387576,\n",
       " 3: 30235.99735495217,\n",
       " 4: 26656.658304860543,\n",
       " 5: 23785.236485614267,\n",
       " 6: 21084.701519561047,\n",
       " 7: 19509.124325953813,\n",
       " 8: 18293.55545922698,\n",
       " 9: 17411.676015165205}"
      ]
     },
     "execution_count": 276,
     "metadata": {},
     "output_type": "execute_result"
    }
   ],
   "source": [
    "wss"
   ]
  },
  {
   "cell_type": "code",
   "execution_count": 314,
   "metadata": {},
   "outputs": [],
   "source": [
    "#iterating through the newhoteldata to fing the cluster labels\n",
    "\n",
    "wss_newHotel= {}\n",
    "for k in range(1, 10):\n",
    "    kmeans = KMeans(n_clusters=k, max_iter=1000).fit(X_newHotel_std)\n",
    "    newhotel_clusters = kmeans.labels_\n",
    "    wss_newHotel[k] = kmeans.inertia_ # Inertia: Sum of squared distances of samples to their closest cluster center"
   ]
  },
  {
   "cell_type": "code",
   "execution_count": 297,
   "metadata": {},
   "outputs": [
    {
     "data": {
      "text/plain": [
       "{1: 24690.0,\n",
       " 2: 15517.22093170179,\n",
       " 3: 11831.426838736897,\n",
       " 4: 10333.795013043975,\n",
       " 5: 9081.346416313916,\n",
       " 6: 7956.61045328144,\n",
       " 7: 7275.2417306228035,\n",
       " 8: 6862.091195449642,\n",
       " 9: 6474.677053852891}"
      ]
     },
     "execution_count": 297,
     "metadata": {},
     "output_type": "execute_result"
    }
   ],
   "source": [
    "wss_newHotel"
   ]
  },
  {
   "cell_type": "code",
   "execution_count": 315,
   "metadata": {},
   "outputs": [
    {
     "data": {
      "image/png": "[encoded data removed]",
      "text/plain": [
       "<Figure size 432x288 with 1 Axes>"
      ]
     },
     "metadata": {},
     "output_type": "display_data"
    }
   ],
   "source": [
    "#Plotting elbow curve to detrmine number of clusters for training data\n",
    "plt.figure()\n",
    "plt.plot(list(wss.keys()), list(wss.values()))\n",
    "plt.xlabel(\"Number of clusters\")\n",
    "plt.ylabel(\"WSS\")\n",
    "plt.show()"
   ]
  },
  {
   "cell_type": "code",
   "execution_count": 320,
   "metadata": {},
   "outputs": [
    {
     "data": {
      "image/png": "[encoded data removed]",
      "text/plain": [
       "<Figure size 432x288 with 1 Axes>"
      ]
     },
     "metadata": {},
     "output_type": "display_data"
    }
   ],
   "source": [
    "#Plotting elbow curve to detrmine number of clusters for newHotelData\n",
    "\n",
    "plt.figure()\n",
    "plt.plot(list(wss_newHotel.keys()), list(wss_newHotel.values()))\n",
    "plt.xlabel(\"Number of clusters\")\n",
    "plt.ylabel(\"WSS_NewHotel\")\n",
    "plt.show()"
   ]
  },
  {
   "cell_type": "code",
   "execution_count": 321,
   "metadata": {},
   "outputs": [],
   "source": [
    "X_train_std=pd.DataFrame(X_train_std)"
   ]
  },
  {
   "cell_type": "code",
   "execution_count": 322,
   "metadata": {},
   "outputs": [
    {
     "name": "stdout",
     "output_type": "stream",
     "text": [
      "Int64Index([ 593,  193, 3533, 2488, 1152,   28, 6319, 2353, 4385,  330,\n",
      "            ...\n",
      "            2550, 5695, 4939, 3100, 1643, 1444, 5070, 1907, 1347, 3668],\n",
      "           dtype='int64', length=5740)\n"
     ]
    }
   ],
   "source": [
    "indices=X_train_std.sample(frac=0.9,random_state=1234).index\n",
    "print(indices)"
   ]
  },
  {
   "cell_type": "code",
   "execution_count": 323,
   "metadata": {},
   "outputs": [],
   "source": [
    "X_newHotel_std = pd.DataFrame(X_newHotel_std)"
   ]
  },
  {
   "cell_type": "code",
   "execution_count": 324,
   "metadata": {},
   "outputs": [
    {
     "name": "stdout",
     "output_type": "stream",
     "text": [
      "Int64Index([ 593,  193, 3533, 2488, 1152,   28, 6319, 2353, 4385,  330,\n",
      "            ...\n",
      "            2550, 5695, 4939, 3100, 1643, 1444, 5070, 1907, 1347, 3668],\n",
      "           dtype='int64', length=5740)\n"
     ]
    }
   ],
   "source": [
    "indices_newHotel=X_newHotel_std.sample(frac=0.9,random_state=1234).index\n",
    "print(indices)"
   ]
  },
  {
   "cell_type": "code",
   "execution_count": 325,
   "metadata": {},
   "outputs": [
    {
     "data": {
      "text/html": [
       "<div>\n",
       "<style scoped>\n",
       "    .dataframe tbody tr th:only-of-type {\n",
       "        vertical-align: middle;\n",
       "    }\n",
       "\n",
       "    .dataframe tbody tr th {\n",
       "        vertical-align: top;\n",
       "    }\n",
       "\n",
       "    .dataframe thead th {\n",
       "        text-align: right;\n",
       "    }\n",
       "</style>\n",
       "<table border=\"1\" class=\"dataframe\">\n",
       "  <thead>\n",
       "    <tr style=\"text-align: right;\">\n",
       "      <th></th>\n",
       "      <th>0</th>\n",
       "      <th>1</th>\n",
       "      <th>2</th>\n",
       "      <th>3</th>\n",
       "      <th>4</th>\n",
       "      <th>5</th>\n",
       "      <th>6</th>\n",
       "      <th>7</th>\n",
       "      <th>8</th>\n",
       "      <th>9</th>\n",
       "      <th>clus</th>\n",
       "    </tr>\n",
       "  </thead>\n",
       "  <tbody>\n",
       "    <tr>\n",
       "      <th>593</th>\n",
       "      <td>-1.096828</td>\n",
       "      <td>-1.129395</td>\n",
       "      <td>0.549142</td>\n",
       "      <td>-1.215066</td>\n",
       "      <td>0.653107</td>\n",
       "      <td>-1.065354</td>\n",
       "      <td>-0.288199</td>\n",
       "      <td>-0.550804</td>\n",
       "      <td>-0.481473</td>\n",
       "      <td>-0.306715</td>\n",
       "      <td>0</td>\n",
       "    </tr>\n",
       "    <tr>\n",
       "      <th>193</th>\n",
       "      <td>0.536887</td>\n",
       "      <td>1.096932</td>\n",
       "      <td>1.012978</td>\n",
       "      <td>0.946482</td>\n",
       "      <td>1.128189</td>\n",
       "      <td>1.038796</td>\n",
       "      <td>1.785859</td>\n",
       "      <td>-0.550804</td>\n",
       "      <td>-0.767238</td>\n",
       "      <td>1.084524</td>\n",
       "      <td>1</td>\n",
       "    </tr>\n",
       "  </tbody>\n",
       "</table>\n",
       "</div>"
      ],
      "text/plain": [
       "            0         1         2         3         4         5         6  \\\n",
       "593 -1.096828 -1.129395  0.549142 -1.215066  0.653107 -1.065354 -0.288199   \n",
       "193  0.536887  1.096932  1.012978  0.946482  1.128189  1.038796  1.785859   \n",
       "\n",
       "            7         8         9  clus  \n",
       "593 -0.550804 -0.481473 -0.306715     0  \n",
       "193 -0.550804 -0.767238  1.084524     1  "
      ]
     },
     "execution_count": 325,
     "metadata": {},
     "output_type": "execute_result"
    }
   ],
   "source": [
    "Alpha=X_train_std.iloc[indices,:]\n",
    "Alpha.head(2)"
   ]
  },
  {
   "cell_type": "code",
   "execution_count": 326,
   "metadata": {},
   "outputs": [
    {
     "data": {
      "text/html": [
       "<div>\n",
       "<style scoped>\n",
       "    .dataframe tbody tr th:only-of-type {\n",
       "        vertical-align: middle;\n",
       "    }\n",
       "\n",
       "    .dataframe tbody tr th {\n",
       "        vertical-align: top;\n",
       "    }\n",
       "\n",
       "    .dataframe thead th {\n",
       "        text-align: right;\n",
       "    }\n",
       "</style>\n",
       "<table border=\"1\" class=\"dataframe\">\n",
       "  <thead>\n",
       "    <tr style=\"text-align: right;\">\n",
       "      <th></th>\n",
       "      <th>0</th>\n",
       "      <th>1</th>\n",
       "      <th>2</th>\n",
       "      <th>3</th>\n",
       "      <th>4</th>\n",
       "      <th>5</th>\n",
       "      <th>6</th>\n",
       "      <th>7</th>\n",
       "      <th>8</th>\n",
       "      <th>9</th>\n",
       "    </tr>\n",
       "  </thead>\n",
       "  <tbody>\n",
       "    <tr>\n",
       "      <th>1641</th>\n",
       "      <td>-1.634593</td>\n",
       "      <td>-1.664443</td>\n",
       "      <td>-1.257824</td>\n",
       "      <td>-1.741963</td>\n",
       "      <td>-1.213909</td>\n",
       "      <td>-1.598062</td>\n",
       "      <td>-0.753421</td>\n",
       "      <td>0.027720</td>\n",
       "      <td>0.235279</td>\n",
       "      <td>-0.533200</td>\n",
       "    </tr>\n",
       "    <tr>\n",
       "      <th>2266</th>\n",
       "      <td>-1.634593</td>\n",
       "      <td>-1.664443</td>\n",
       "      <td>-1.257824</td>\n",
       "      <td>-1.741963</td>\n",
       "      <td>-1.213909</td>\n",
       "      <td>-1.598062</td>\n",
       "      <td>-0.753421</td>\n",
       "      <td>-0.138802</td>\n",
       "      <td>-0.452995</td>\n",
       "      <td>-0.195872</td>\n",
       "    </tr>\n",
       "  </tbody>\n",
       "</table>\n",
       "</div>"
      ],
      "text/plain": [
       "             0         1         2         3         4         5         6  \\\n",
       "1641 -1.634593 -1.664443 -1.257824 -1.741963 -1.213909 -1.598062 -0.753421   \n",
       "2266 -1.634593 -1.664443 -1.257824 -1.741963 -1.213909 -1.598062 -0.753421   \n",
       "\n",
       "             7         8         9  \n",
       "1641  0.027720  0.235279 -0.533200  \n",
       "2266 -0.138802 -0.452995 -0.195872  "
      ]
     },
     "execution_count": 326,
     "metadata": {},
     "output_type": "execute_result"
    }
   ],
   "source": [
    "Alpha_newHotel = X_newHotel_std.iloc[indices_newHotel,:]\n",
    "Alpha_newHotel.head(2)"
   ]
  },
  {
   "cell_type": "code",
   "execution_count": 327,
   "metadata": {},
   "outputs": [
    {
     "name": "stdout",
     "output_type": "stream",
     "text": [
      "6378\n"
     ]
    }
   ],
   "source": [
    "kmeans = KMeans(n_clusters=2)\n",
    "kmeans1 = kmeans.fit(X_train_std)\n",
    "print(len(kmeans1.labels_))\n",
    "X_train_std['clus']=kmeans1.labels_"
   ]
  },
  {
   "cell_type": "code",
   "execution_count": 328,
   "metadata": {},
   "outputs": [
    {
     "name": "stdout",
     "output_type": "stream",
     "text": [
      "5740\n"
     ]
    },
    {
     "name": "stderr",
     "output_type": "stream",
     "text": [
      "C:\\Users\\CBPLDEV11\\Anaconda3\\lib\\site-packages\\ipykernel_launcher.py:4: SettingWithCopyWarning:\n",
      "\n",
      "\n",
      "A value is trying to be set on a copy of a slice from a DataFrame.\n",
      "Try using .loc[row_indexer,col_indexer] = value instead\n",
      "\n",
      "See the caveats in the documentation: http://pandas.pydata.org/pandas-docs/stable/indexing.html#indexing-view-versus-copy\n",
      "\n"
     ]
    }
   ],
   "source": [
    "kmeans = KMeans(n_clusters=2)\n",
    "kmeans2=kmeans.fit(Alpha)\n",
    "print(len(kmeans2.labels_))\n",
    "Alpha['clus']=kmeans2.labels_"
   ]
  },
  {
   "cell_type": "code",
   "execution_count": 329,
   "metadata": {},
   "outputs": [
    {
     "name": "stdout",
     "output_type": "stream",
     "text": [
      "6378\n"
     ]
    }
   ],
   "source": [
    "kmeans_newHotel = KMeans(n_clusters=4)\n",
    "kmeans1_newHotel = kmeans.fit(X_train_std)\n",
    "print(len(kmeans1_newHotel.labels_))\n",
    "# X_newHotel_std['clus']=kmeans1_newHotel.labels_"
   ]
  },
  {
   "cell_type": "code",
   "execution_count": 330,
   "metadata": {},
   "outputs": [
    {
     "name": "stdout",
     "output_type": "stream",
     "text": [
      "2222\n"
     ]
    }
   ],
   "source": [
    "# kmeans = KMeans(n_clusters=2)\n",
    "kmeans2_newHotel=kmeans_newHotel.fit(Alpha_newHotel)\n",
    "print(len(kmeans2_newHotel.labels_))"
   ]
  },
  {
   "cell_type": "code",
   "execution_count": 331,
   "metadata": {},
   "outputs": [
    {
     "data": {
      "text/plain": [
       "array([6, 7, 1, ..., 5, 4, 5])"
      ]
     },
     "execution_count": 331,
     "metadata": {},
     "output_type": "execute_result"
    }
   ],
   "source": [
    "newhotel_clusters"
   ]
  },
  {
   "cell_type": "code",
   "execution_count": 332,
   "metadata": {},
   "outputs": [
    {
     "data": {
      "text/plain": [
       "<matplotlib.collections.PathCollection at 0x1f95e1a5400>"
      ]
     },
     "execution_count": 332,
     "metadata": {},
     "output_type": "execute_result"
    },
    {
     "data": {
      "image/png": "[encoded data removed]",
      "text/plain": [
       "<Figure size 720x504 with 1 Axes>"
      ]
     },
     "metadata": {},
     "output_type": "display_data"
    }
   ],
   "source": [
    "# g1=X_train_std.loc[indices,'clus']\n",
    "# g2=Alpha.clus\n",
    "plt.figure(figsize=(10, 7))  \n",
    "plt.scatter(mergedData2['AverageOverallRatingOfHotel'],mergedData2['cluster_value'], c=newhotel_clusters, cmap='rainbow')  "
   ]
  },
  {
   "cell_type": "code",
   "execution_count": 333,
   "metadata": {},
   "outputs": [
    {
     "data": {
      "text/plain": [
       "<matplotlib.collections.PathCollection at 0x1f95d977080>"
      ]
     },
     "execution_count": 333,
     "metadata": {},
     "output_type": "execute_result"
    },
    {
     "data": {
      "image/png": "[encoded data removed]",
      "text/plain": [
       "<Figure size 720x504 with 1 Axes>"
      ]
     },
     "metadata": {},
     "output_type": "display_data"
    }
   ],
   "source": [
    "plt.figure(figsize=(10, 7))  \n",
    "plt.scatter(mergedData2['AveragePricing'],mergedData2['cluster_value'], c=newhotel_clusters, cmap='rainbow')  "
   ]
  },
  {
   "cell_type": "code",
   "execution_count": null,
   "metadata": {},
   "outputs": [],
   "source": []
  }
 ],
 "metadata": {
  "kernelspec": {
   "display_name": "Python 3",
   "language": "python",
   "name": "python3"
  },
  "language_info": {
   "codemirror_mode": {
    "name": "ipython",
    "version": 3
   },
   "file_extension": ".py",
   "mimetype": "text/x-python",
   "name": "python",
   "nbconvert_exporter": "python",
   "pygments_lexer": "ipython3",
   "version": "3.6.5"
  }
 },
 "nbformat": 4,
 "nbformat_minor": 2
}
